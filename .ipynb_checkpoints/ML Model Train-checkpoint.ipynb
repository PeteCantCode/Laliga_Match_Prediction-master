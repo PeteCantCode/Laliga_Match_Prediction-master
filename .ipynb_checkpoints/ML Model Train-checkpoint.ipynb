{
 "cells": [
  {
   "cell_type": "markdown",
   "source": [
    "Importing Libraries"
   ],
   "metadata": {
    "collapsed": false
   },
   "id": "53360236b38218b2"
  },
  {
   "cell_type": "code",
   "execution_count": null,
   "outputs": [],
   "source": [
    "import pandas as pd\n",
    "import numpy as np\n",
    "import matplotlib.pyplot as plt\n",
    "import chardet\n",
    "import IPython\n",
    "import chardet\n",
    "\n",
    "from sklearn.preprocessing import MinMaxScaler\n",
    "from sklearn.model_selection import train_test_split\n",
    "from sklearn.neighbors import KNeighborsClassifier \n",
    "from sklearn.metrics import accuracy_score\n",
    "\n",
    "# Support Vector Machine (SVM)\n",
    "from sklearn.svm import SVC\n",
    "\n",
    "# Naive Bayes\n",
    "from sklearn.naive_bayes import GaussianNB\n",
    "\n",
    "# Decision Tree\n",
    "from sklearn.tree import DecisionTreeClassifier\n"
   ],
   "metadata": {
    "collapsed": false
   },
   "id": "ebf532fcda55bdb7"
  },
  {
   "cell_type": "markdown",
   "source": [
    "Importing Data and Converting it to a DataFrame"
   ],
   "metadata": {
    "collapsed": false
   },
   "id": "d45420679543d3de"
  },
  {
   "cell_type": "code",
   "execution_count": null,
   "outputs": [],
   "source": [
    "\n",
    "path = 'LaLiga_Matches.csv'\n",
    "    \n",
    "with open(path, 'rb') as rawdata:\n",
    "    result = chardet.detect(rawdata.read(100000))\n",
    "matches=pd.read_csv(path,encoding='Windows-1252')\n"
   ],
   "metadata": {
    "collapsed": false
   },
   "id": "a06954d519cf74c2"
  },
  {
   "cell_type": "markdown",
   "source": [
    "Data Attributes \n",
    "\n",
    "⦁\t'Date'\n",
    "⦁\t 'HomeTeam',\n",
    "⦁\t 'AwayTeam',\n",
    "⦁\t 'FTHG' [Full time home goal]\n",
    "⦁\t 'FTAG' [Full time away goal]\n",
    "⦁\t'FTR' [Full time result]\n",
    "⦁\t'HTHG' [ Half time home goal] \n",
    "⦁\t'HTAG' [Half time away goal]\n",
    "⦁\t 'HTR' [Half time result]\n"
   ],
   "metadata": {
    "collapsed": false
   },
   "id": "82051730c66186aa"
  },
  {
   "cell_type": "code",
   "execution_count": null,
   "outputs": [],
   "source": [
    "list(matches.columns)"
   ],
   "metadata": {
    "collapsed": false
   },
   "id": "69402a3e1a194b04"
  },
  {
   "cell_type": "markdown",
   "source": [],
   "metadata": {
    "collapsed": false
   },
   "id": "c56963a8d4503137"
  },
  {
   "cell_type": "markdown",
   "source": [
    "Data Cleaning and Preprocessing\n",
    "\n",
    "home and away team points == 3 and tie points == 1 \n",
    "other cells == 0"
   ],
   "metadata": {
    "collapsed": false
   },
   "id": "fda065ed5d0d90bd"
  },
  {
   "cell_type": "code",
   "execution_count": null,
   "outputs": [],
   "source": [
    "# Creating a new dataframe with the columns we need\n",
    "\n",
    "Home_win = matches.loc[matches.FTHG > matches.FTAG][['Date','Season','HomeTeam','home_team_points']]\n",
    "Away_win = matches.loc[matches.FTHG < matches.FTAG][['Date','Season','AwayTeam','away_team_points']]\n",
    "Home_tie = matches.loc[matches.FTHG == matches.FTAG][['Date','Season','HomeTeam','tie_points']]\n",
    "Away_tie = matches.loc[matches.FTHG == matches.FTAG][['Date','Season','AwayTeam','tie_points']]\n",
    "\n",
    "Home_win.columns = ['date','Season', 'team', 'points']\n",
    "Away_win.columns = ['date','Season', 'team', 'points']\n",
    "Home_tie.columns = ['date','Season', 'team', 'points']\n",
    "Away_tie.columns = ['date','Season', 'team', 'points']"
   ],
   "metadata": {
    "collapsed": false
   },
   "id": "19b41002c6c2ca22"
  },
  {
   "cell_type": "code",
   "execution_count": null,
   "outputs": [],
   "source": [
    "matches.shape"
   ],
   "metadata": {
    "collapsed": false
   },
   "id": "ebfed52393fa6453"
  },
  {
   "cell_type": "code",
   "execution_count": null,
   "outputs": [],
   "source": [
    "iframe = \"<iframe src='https://public.flourish.studio/visualisation/6430207/' style='width:100%;height:600px;'></iframe><div style='width:100%!;margin-top:4px!important;text-align:right!important;'><a class='flourish-credit' href='https://public.flourish.studio/visualisation/6430207/' target='_top' style='text-decoration:none!important'><img alt='Made with Flourish' src='https://public.flourish.studio/resources/made_with_flourish.svg' style='width:105px!important;height:16px!important;border:none!important;margin:0!important;'> </a></div>\"\n",
    "IPython.display.HTML(iframe)"
   ],
   "metadata": {
    "collapsed": false
   },
   "id": "3c10f662171e9c59"
  },
  {
   "cell_type": "code",
   "execution_count": null,
   "outputs": [],
   "source": [
    "matches=matches.drop(['HTHG','HTAG'],axis=1)\n"
   ],
   "metadata": {
    "collapsed": false
   },
   "id": "e99f8dcc4800cae2"
  },
  {
   "cell_type": "code",
   "execution_count": null,
   "outputs": [],
   "source": [
    "matches['Season'].unique()\n"
   ],
   "metadata": {
    "collapsed": false
   },
   "id": "8b91fad1c1cb6fc4"
  },
  {
   "cell_type": "code",
   "execution_count": null,
   "outputs": [],
   "source": [
    "matches.head()"
   ],
   "metadata": {
    "collapsed": false
   },
   "id": "50d572ef1b7bc6ba"
  },
  {
   "cell_type": "code",
   "execution_count": null,
   "outputs": [],
   "source": [
    "matches[matches.isnull().any(axis=1)]"
   ],
   "metadata": {
    "collapsed": false
   },
   "id": "3bd66f78088a3a2c"
  },
  {
   "cell_type": "code",
   "execution_count": null,
   "outputs": [],
   "source": [
    "\n",
    "matches.loc[136, 'HTR'] = 'D'\n",
    "matches.loc[1472, 'HTR'] = 'D'"
   ],
   "metadata": {
    "collapsed": false
   },
   "id": "85be6cd28a138990"
  },
  {
   "cell_type": "code",
   "execution_count": null,
   "outputs": [],
   "source": [
    "#finding the null values\n",
    "matches.isnull().sum()"
   ],
   "metadata": {
    "collapsed": false
   },
   "id": "85de33bfd5843994"
  },
  {
   "cell_type": "code",
   "execution_count": null,
   "outputs": [],
   "source": [
    "matches['resultHome'] = matches['FTR'].map({'H':3,'A':0,'D':1})\n",
    "matches['resultAway'] = matches['FTR'].map({'H':0,'A':3,'D':1})\n",
    "matches['result'] = matches['resultHome'] + matches['resultAway']\n",
    "matches"
   ],
   "metadata": {
    "collapsed": false
   },
   "id": "92f2d8e6308a15f5"
  },
  {
   "cell_type": "code",
   "execution_count": null,
   "outputs": [],
   "source": [
    "\n",
    "y=matches['result']\n",
    "\n",
    "X_train, X_test, y_train, y_test = train_test_split(matches[['FTHG','FTAG']],matches['result'],\n",
    "                                                              test_size=0.2,\n",
    "                                                              random_state=0,\n",
    "                                                              stratify=y)\n",
    "print(X_train)\n",
    "print(X_train.shape,y_train.shape)\n",
    "print(X_test.shape,y_test.shape)"
   ],
   "metadata": {
    "collapsed": false
   },
   "id": "1548bfb669b22f6e"
  },
  {
   "cell_type": "code",
   "execution_count": null,
   "outputs": [],
   "source": [
    "X_train.shape"
   ],
   "metadata": {
    "collapsed": false
   },
   "id": "d8231d6f5e94dda1"
  },
  {
   "cell_type": "code",
   "execution_count": null,
   "outputs": [],
   "source": [
    "X_train"
   ],
   "metadata": {
    "collapsed": false
   },
   "id": "cc7f00a3600d7462"
  },
  {
   "cell_type": "code",
   "execution_count": null,
   "outputs": [],
   "source": [
    "X_test.shape"
   ],
   "metadata": {
    "collapsed": false
   },
   "id": "6f755ccbd4665862"
  },
  {
   "cell_type": "code",
   "execution_count": null,
   "outputs": [],
   "source": [
    "X_test"
   ],
   "metadata": {
    "collapsed": false
   },
   "id": "6ea9722720ee5c78"
  },
  {
   "cell_type": "code",
   "execution_count": null,
   "outputs": [],
   "source": [
    "y_train.shape"
   ],
   "metadata": {
    "collapsed": false
   },
   "id": "2fc815e93dda47f5"
  },
  {
   "cell_type": "code",
   "execution_count": null,
   "outputs": [],
   "source": [
    "y_test.shape"
   ],
   "metadata": {
    "collapsed": false
   },
   "id": "96ee0be4a15ef99e"
  },
  {
   "cell_type": "code",
   "execution_count": null,
   "outputs": [],
   "source": [
    "total_data_count=matches.shape[0]\n",
    "round(total_data_count*0.25)"
   ],
   "metadata": {
    "collapsed": false
   },
   "id": "c3e90a753af509e0"
  },
  {
   "cell_type": "code",
   "execution_count": null,
   "outputs": [],
   "source": [
    "matches.dtypes"
   ],
   "metadata": {
    "collapsed": false
   },
   "id": "304ad886f8f90ff8"
  },
  {
   "cell_type": "code",
   "execution_count": null,
   "outputs": [],
   "source": [
    "for i in range(3):\n",
    "    print(\"Class -\",i,\":\",list(y_train).count(i))"
   ],
   "metadata": {
    "collapsed": false
   },
   "id": "4adb2af7efd8d876"
  },
  {
   "cell_type": "code",
   "execution_count": null,
   "outputs": [],
   "source": [
    "for i in range(3):\n",
    "    print(\"Class -\",i,\":\",list(y_test).count(i))"
   ],
   "metadata": {
    "collapsed": false
   },
   "id": "2b0789d87fab9f46"
  },
  {
   "cell_type": "code",
   "execution_count": null,
   "outputs": [],
   "source": [
    "uni=len(matches['result'].unique())\n",
    "for i in range(uni):\n",
    "    print(\"Class -\",i,\":\",list(matches['result']).count(i))"
   ],
   "metadata": {
    "collapsed": false
   },
   "id": "dd0b6d5d1b64599"
  },
  {
   "cell_type": "code",
   "execution_count": null,
   "outputs": [],
   "source": [
    "print(\"per-feature minimum before scaling:\\n {}\".format(X_train.min(axis=0)))\n",
    "print(\"per-feature maximum before scaling:\\n {}\".format(X_train.max(axis=0)))"
   ],
   "metadata": {
    "collapsed": false
   },
   "id": "c9f17511c70b77a9"
  },
  {
   "cell_type": "code",
   "execution_count": null,
   "outputs": [],
   "source": [
    "knn=KNeighborsClassifier()\n",
    "\n",
    "knn.fit(X_train, y_train)\n",
    "\n",
    "print(\"Test set accuracy: {:.2f}\".format(knn.score(X_test, y_test)))"
   ],
   "metadata": {
    "collapsed": false
   },
   "id": "dd27185f8d17d569"
  },
  {
   "cell_type": "code",
   "execution_count": null,
   "outputs": [],
   "source": [
    "preds=knn.predict(X_test)\n",
    "# acc=accuracy_score(y_test,preds)\n",
    "combined=pd.DataFrame(dict(actual=y_test,predictions=preds),index=X_test.index)\n",
    "# pd.crosstab(index=combined[\"actual\"],columns=combined[\"predictions\"])"
   ],
   "metadata": {
    "collapsed": false
   },
   "id": "9a1e213174e492ae"
  },
  {
   "cell_type": "code",
   "execution_count": null,
   "outputs": [],
   "source": [
    "combined\n"
   ],
   "metadata": {
    "collapsed": false
   },
   "id": "162b9d9c3b566687"
  },
  {
   "cell_type": "code",
   "execution_count": null,
   "outputs": [],
   "source": [
    "from sklearn.metrics import precision_score\n",
    "precision_score(y_test,preds,average='weighted')\n"
   ],
   "metadata": {
    "collapsed": false
   },
   "id": "c7340b031ff5f38c"
  },
  {
   "cell_type": "code",
   "execution_count": null,
   "outputs": [],
   "source": [
    "def rolling_averages(group,cols,new_cols):\n",
    "  group=group.sort_values(\"date\")\n",
    "  rolling_stat=group[cols].rolling(3, closed='left').mean()\n",
    "  group[new_cols]=rolling_stat\n",
    "  group=group.dropna(subset=new_cols)\n",
    "  return group"
   ],
   "metadata": {
    "collapsed": false
   },
   "id": "475356d3ca1e6eaa"
  },
  {
   "cell_type": "code",
   "execution_count": null,
   "outputs": [],
   "source": [
    "\n",
    "scaler1 = MinMaxScaler()\n",
    "\n",
    "scaler1.fit(X_train,X_test)\n",
    "# transform data\n",
    "X_train_scaled = scaler1.transform(X_train)\n",
    "# transform test data\n",
    "X_test_scaled = scaler1.transform(X_test)\n"
   ],
   "metadata": {
    "collapsed": false
   },
   "id": "7fd148f8c5fe7e4c"
  },
  {
   "cell_type": "code",
   "execution_count": null,
   "outputs": [],
   "source": [
    "print(\"per-feature minimum after scaling:\\n {}\".format(\n",
    "    X_train_scaled.min(axis=0)))\n",
    "print(\"per-feature maximum after scaling:\\n {}\".format(\n",
    "    X_train_scaled.max(axis=0)))"
   ],
   "metadata": {
    "collapsed": false
   },
   "id": "24934ecfef1fb4c"
  },
  {
   "cell_type": "code",
   "execution_count": null,
   "outputs": [],
   "source": [
    "#train\n",
    "knn.fit(X_train_scaled, y_train)\n",
    "\n",
    "# scoring on the scaled test set\n",
    "print(\"Scaled test set accuracy: {:.2f}\".format(\n",
    "    knn.score(X_test_scaled, y_test)))\n",
    "\n",
    "#another approach\n",
    "preds2=knn.predict(X_test_scaled)\n",
    "acc2=accuracy_score(y_test,preds2)\n",
    "# combined=pd.DataFrame(dict(actual=y_test,predictions=preds2))\n",
    "# pd.crosstab(index=combined[\"actual\"],columns=combined[\"predictions\"])\n"
   ],
   "metadata": {
    "collapsed": false
   },
   "id": "f56aacded69397d8"
  },
  {
   "cell_type": "code",
   "execution_count": null,
   "outputs": [],
   "source": [
    "acc2"
   ],
   "metadata": {
    "collapsed": false
   },
   "id": "3251e65ca5a19427"
  },
  {
   "cell_type": "code",
   "execution_count": null,
   "outputs": [],
   "source": [
    "preds2"
   ],
   "metadata": {
    "collapsed": false
   },
   "id": "46a845150bd41398"
  },
  {
   "cell_type": "markdown",
   "source": [
    "Support Vector Machine (SVM)"
   ],
   "metadata": {
    "collapsed": false
   },
   "id": "b15459cac8c62200"
  },
  {
   "cell_type": "code",
   "execution_count": null,
   "outputs": [],
   "source": [
    "\n",
    "svm = SVC(kernel='linear', C=1, random_state=0)\n",
    "svm.fit(X_train_scaled, y_train)\n",
    "print('Accuracy of SVM classifier on training set: {:.2f}'\n",
    "     .format(svm.score(X_train_scaled, y_train)))\n",
    "\n",
    "print('Accuracy of SVM classifier on test set: {:.2f}'\n",
    "        .format(svm.score(X_test_scaled, y_test)))\n",
    "\n",
    "svm2 = SVC(kernel='rbf', C=1, random_state=0)\n",
    "svm2.fit(X_train_scaled, y_train)\n",
    "print('Accuracy of SVM classifier on training set: {:.2f}'\n",
    "     .format(svm2.score(X_train_scaled, y_train)))\n",
    "\n",
    "print('Accuracy of SVM classifier on test set: {:.2f}'\n",
    "        .format(svm2.score(X_test_scaled, y_test)))\n",
    "\n",
    "svm3 = SVC(kernel='poly', C=1, random_state=0)\n",
    "svm3.fit(X_train_scaled, y_train)\n",
    "print('Accuracy of SVM classifier on training set: {:.2f}'\n",
    "     .format(svm3.score(X_train_scaled, y_train)))\n",
    "\n",
    "print('Accuracy of SVM classifier on test set: {:.2f}'\n",
    "        .format(svm3.score(X_test_scaled, y_test)))\n"
   ],
   "metadata": {
    "collapsed": false
   },
   "id": "ee5b4a07f999dbfb"
  },
  {
   "cell_type": "markdown",
   "source": [
    "Naive Bayes"
   ],
   "metadata": {
    "collapsed": false
   },
   "id": "2585cc4262af8e5e"
  },
  {
   "cell_type": "code",
   "execution_count": null,
   "outputs": [],
   "source": [
    "nb = GaussianNB()\n",
    "nb.fit(X_train_scaled, y_train)\n",
    "print('Accuracy of Naive Bayes classifier on training set: {:.2f}'\n",
    "     .format(nb.score(X_train_scaled, y_train)))\n",
    "print('Accuracy of Naive Bayes classifier on test set: {:.2f}'\n",
    "        .format(nb.score(X_test_scaled, y_test)))\n"
   ],
   "metadata": {
    "collapsed": false
   },
   "id": "a49b55d6c019b9e7"
  },
  {
   "cell_type": "markdown",
   "source": [
    "Decision Tree"
   ],
   "metadata": {
    "collapsed": false
   },
   "id": "f67ad8b3ea040470"
  },
  {
   "cell_type": "code",
   "execution_count": null,
   "outputs": [],
   "source": [
    "tree = DecisionTreeClassifier(random_state=0)\n",
    "tree.fit(X_train_scaled, y_train)\n",
    "print('Accuracy of Decision Tree classifier on training set: {:.2f}'\n",
    "     .format(tree.score(X_train_scaled, y_train)))\n",
    "print('Accuracy of Decision Tree classifier on test set: {:.2f}'\n",
    "        .format(tree.score(X_test_scaled, y_test)))\n"
   ],
   "metadata": {
    "collapsed": false
   },
   "id": "fd801fd7734c546b"
  }
 ],
 "metadata": {
  "kernelspec": {
   "display_name": "Python 3",
   "language": "python",
   "name": "python3"
  },
  "language_info": {
   "codemirror_mode": {
    "name": "ipython",
    "version": 2
   },
   "file_extension": ".py",
   "mimetype": "text/x-python",
   "name": "python",
   "nbconvert_exporter": "python",
   "pygments_lexer": "ipython2",
   "version": "2.7.6"
  }
 },
 "nbformat": 4,
 "nbformat_minor": 5
}
