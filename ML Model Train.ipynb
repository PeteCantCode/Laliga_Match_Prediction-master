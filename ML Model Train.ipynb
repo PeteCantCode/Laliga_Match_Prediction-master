{
 "cells": [
  {
   "cell_type": "markdown",
   "source": [
    "# Project Title: La Liga Match Prediction\n",
    "\n",
    "# Project Description:\n",
    "\n",
    "## The project is about predicting the outcome of a football match in the Spanish La Liga. The dataset contains the results of all the matches played in the La Liga from 1995 to 2020. The dataset contains the following columns:\n",
    "\n",
    "    ### Date\n",
    "    ### HomeTeam\n",
    "    ### AwayTeam\n",
    "    ### FTHG [Full time home goal]\n",
    "    ### FTAG [Full time away goal]\n",
    "    ### FTR [Full time result]\n",
    "    ### HTHG [ Half time home goal]\n",
    "    ### HTAG [Half time away goal]\n",
    "    ### HTR [Half time result]\n",
    "\n",
    "## The project will be using the following algorithms to predict the outcome of the match:\n",
    "\n",
    "    ### K-Nearest Neighbors (KNN)\n",
    "    ### Support Vector Machine (SVM)\n",
    "    ### Naive Bayes\n",
    "    ### Decision Tree\n",
    "    \n",
    "\n",
    "\n",
    "\n",
    "## The project will be using the following metrics to evaluate the performance of the algorithms:\n",
    "\n",
    "    ### Accuracy\n",
    "    ### Precision\n",
    "    ### Confusion Matrix\n",
    "    ### F1 Score\n",
    "\n",
    "\n",
    "\n",
    "\n",
    "## The project will be using the following techniques:\n",
    "\n",
    "    ### Data Cleaning\n",
    "    ### Data Preprocessing\n",
    "    ### Data Visualization\n",
    "    ### Data Analysis\n",
    "    ### Data Modeling\n",
    "    ### Data Evaluation\n",
    "    ### Data Interpretation\n",
    " \n",
    "\n",
    "\n",
    "\n",
    "## Team Members:\n",
    "    ## M A Moontasir Abtahee 19301150\n",
    "    ## Maisha Jarin 20101125\n",
    "    ## Bless Peter Biswas 20101429\n",
    "    ## Tanzina Binte Azad 20201217\n",
    "\n"
   ],
   "metadata": {
    "collapsed": false
   },
   "id": "e3fb6b80f85af48"
  },
  {
   "cell_type": "markdown",
   "source": [
    "Importing Libraries"
   ],
   "metadata": {
    "collapsed": false
   },
   "id": "53360236b38218b2"
  },
  {
   "cell_type": "code",
   "execution_count": 89,
   "outputs": [],
   "source": [
    "import pandas as pd\n",
    "\n",
    "import IPython\n",
    "import chardet\n",
    "\n",
    "from sklearn.preprocessing import MinMaxScaler\n",
    "from sklearn.model_selection import train_test_split\n",
    "from sklearn.neighbors import KNeighborsClassifier \n",
    "from sklearn.metrics import accuracy_score\n",
    "\n",
    "# Support Vector Machine (SVM)\n",
    "from sklearn.svm import SVC\n",
    "\n",
    "# Naive Bayes\n",
    "from sklearn.naive_bayes import GaussianNB\n",
    "\n",
    "# Decision Tree\n",
    "from sklearn.tree import DecisionTreeClassifier\n"
   ],
   "metadata": {
    "collapsed": false,
    "ExecuteTime": {
     "end_time": "2023-12-12T18:20:38.873227500Z",
     "start_time": "2023-12-12T18:20:38.544577300Z"
    }
   },
   "id": "ebf532fcda55bdb7"
  },
  {
   "cell_type": "markdown",
   "source": [
    "Importing Data and Converting it to a DataFrame"
   ],
   "metadata": {
    "collapsed": false
   },
   "id": "d45420679543d3de"
  },
  {
   "cell_type": "code",
   "execution_count": 90,
   "outputs": [],
   "source": [
    "\n",
    "path = 'LaLiga_Matches.csv'\n",
    "    \n",
    "with open(path, 'rb') as rawdata:\n",
    "    result = chardet.detect(rawdata.read(100000))\n",
    "matches=pd.read_csv(path,encoding='Windows-1252')\n"
   ],
   "metadata": {
    "collapsed": false,
    "ExecuteTime": {
     "end_time": "2023-12-12T18:20:38.946392600Z",
     "start_time": "2023-12-12T18:20:38.877745300Z"
    }
   },
   "id": "a06954d519cf74c2"
  },
  {
   "cell_type": "markdown",
   "source": [
    "Data Attributes \n",
    "\n",
    "⦁\t'Date'\n",
    "⦁\t 'HomeTeam',\n",
    "⦁\t 'AwayTeam',\n",
    "⦁\t 'FTHG' [Full time home goal]\n",
    "⦁\t 'FTAG' [Full time away goal]\n",
    "⦁\t'FTR' [Full time result]\n",
    "⦁\t'HTHG' [ Half time home goal] \n",
    "⦁\t'HTAG' [Half time away goal]\n",
    "⦁\t 'HTR' [Half time result]\n"
   ],
   "metadata": {
    "collapsed": false
   },
   "id": "82051730c66186aa"
  },
  {
   "cell_type": "code",
   "execution_count": 91,
   "outputs": [
    {
     "data": {
      "text/plain": "['Season',\n 'Date',\n 'HomeTeam',\n 'AwayTeam',\n 'FTHG',\n 'FTAG',\n 'FTR',\n 'HTHG',\n 'HTAG',\n 'HTR']"
     },
     "execution_count": 91,
     "metadata": {},
     "output_type": "execute_result"
    }
   ],
   "source": [
    "list(matches.columns)"
   ],
   "metadata": {
    "collapsed": false,
    "ExecuteTime": {
     "end_time": "2023-12-12T18:20:38.960911900Z",
     "start_time": "2023-12-12T18:20:38.938872800Z"
    }
   },
   "id": "69402a3e1a194b04"
  },
  {
   "cell_type": "markdown",
   "source": [],
   "metadata": {
    "collapsed": false
   },
   "id": "c56963a8d4503137"
  },
  {
   "cell_type": "markdown",
   "source": [
    "Data Cleaning and Preprocessing\n",
    "\n",
    "home and away team points == 3 and tie points == 1 \n",
    "other cells == 0"
   ],
   "metadata": {
    "collapsed": false
   },
   "id": "fda065ed5d0d90bd"
  },
  {
   "cell_type": "code",
   "execution_count": 92,
   "outputs": [],
   "source": [
    "matches.loc[matches.FTHG > matches.FTAG, \"home_team_points\"] = 3\n",
    "matches.loc[matches.FTHG < matches.FTAG, \"away_team_points\"] = 3\n",
    "matches.loc[matches.FTHG == matches.FTAG, \"tie_points\"] = 1\n",
    "\n",
    "# Filling the NaN values with 0 from home_team_points, away_team_points and tie_points\n",
    "matches[['home_team_points', 'away_team_points', 'tie_points']] = matches[['home_team_points', 'away_team_points', 'tie_points']].fillna(0)\n"
   ],
   "metadata": {
    "collapsed": false,
    "ExecuteTime": {
     "end_time": "2023-12-12T18:20:39.012049800Z",
     "start_time": "2023-12-12T18:20:38.947393300Z"
    }
   },
   "id": "8085f40633cc4d52"
  },
  {
   "cell_type": "code",
   "execution_count": 93,
   "outputs": [],
   "source": [
    "# Creating a new dataframe with the columns we need\n",
    "\n",
    "Home_win = matches.loc[matches.FTHG > matches.FTAG][['Date','Season','HomeTeam','home_team_points']]\n",
    "Away_win = matches.loc[matches.FTHG < matches.FTAG][['Date','Season','AwayTeam','away_team_points']]\n",
    "Home_tie = matches.loc[matches.FTHG == matches.FTAG][['Date','Season','HomeTeam','tie_points']]\n",
    "Away_tie = matches.loc[matches.FTHG == matches.FTAG][['Date','Season','AwayTeam','tie_points']]\n",
    "\n",
    "Home_win.columns = ['date','Season', 'team', 'points']\n",
    "Away_win.columns = ['date','Season', 'team', 'points']\n",
    "Home_tie.columns = ['date','Season', 'team', 'points']\n",
    "Away_tie.columns = ['date','Season', 'team', 'points']"
   ],
   "metadata": {
    "collapsed": false,
    "ExecuteTime": {
     "end_time": "2023-12-12T18:20:39.031083700Z",
     "start_time": "2023-12-12T18:20:38.965976400Z"
    }
   },
   "id": "19b41002c6c2ca22"
  },
  {
   "cell_type": "code",
   "execution_count": 94,
   "outputs": [
    {
     "data": {
      "text/plain": "(10883, 13)"
     },
     "execution_count": 94,
     "metadata": {},
     "output_type": "execute_result"
    }
   ],
   "source": [
    "matches.shape"
   ],
   "metadata": {
    "collapsed": false,
    "ExecuteTime": {
     "end_time": "2023-12-12T18:20:39.033082500Z",
     "start_time": "2023-12-12T18:20:38.980498500Z"
    }
   },
   "id": "ebfed52393fa6453"
  },
  {
   "cell_type": "code",
   "execution_count": 95,
   "outputs": [
    {
     "data": {
      "text/plain": "<IPython.core.display.HTML object>",
      "text/html": "<iframe src='https://public.flourish.studio/visualisation/6430207/' style='width:100%;height:600px;'></iframe><div style='width:100%!;margin-top:4px!important;text-align:right!important;'><a class='flourish-credit' href='https://public.flourish.studio/visualisation/6430207/' target='_top' style='text-decoration:none!important'><img alt='Made with Flourish' src='https://public.flourish.studio/resources/made_with_flourish.svg' style='width:105px!important;height:16px!important;border:none!important;margin:0!important;'> </a></div>"
     },
     "execution_count": 95,
     "metadata": {},
     "output_type": "execute_result"
    }
   ],
   "source": [
    "iframe = \"<iframe src='https://public.flourish.studio/visualisation/6430207/' style='width:100%;height:600px;'></iframe><div style='width:100%!;margin-top:4px!important;text-align:right!important;'><a class='flourish-credit' href='https://public.flourish.studio/visualisation/6430207/' target='_top' style='text-decoration:none!important'><img alt='Made with Flourish' src='https://public.flourish.studio/resources/made_with_flourish.svg' style='width:105px!important;height:16px!important;border:none!important;margin:0!important;'> </a></div>\"\n",
    "IPython.display.HTML(iframe)"
   ],
   "metadata": {
    "collapsed": false,
    "ExecuteTime": {
     "end_time": "2023-12-12T18:20:39.093272400Z",
     "start_time": "2023-12-12T18:20:39.034587600Z"
    }
   },
   "id": "3c10f662171e9c59"
  },
  {
   "cell_type": "code",
   "execution_count": 96,
   "outputs": [],
   "source": [
    "matches=matches.drop(['HTHG','HTAG'],axis=1)\n"
   ],
   "metadata": {
    "collapsed": false,
    "ExecuteTime": {
     "end_time": "2023-12-12T18:20:39.113813700Z",
     "start_time": "2023-12-12T18:20:39.084259400Z"
    }
   },
   "id": "e99f8dcc4800cae2"
  },
  {
   "cell_type": "code",
   "execution_count": 97,
   "outputs": [
    {
     "data": {
      "text/plain": "array(['1995-96', '1996-97', '1997-98', '1998-99', '1999-2000', '2000-01',\n       '2001-02', '2002-03', '2003-04', '2004-05', '2005-06', '2006-07',\n       '2007-08', '2008-09', '2009-10', '2010-11', '2011-12', '2012-13',\n       '2013-14', '2014-15', '2015-16', '2016-17', '2017-18', '2018-19',\n       '2019-20', '2020-21', '2021-22', '2022-23', '2023-24'],\n      dtype=object)"
     },
     "execution_count": 97,
     "metadata": {},
     "output_type": "execute_result"
    }
   ],
   "source": [
    "matches['Season'].unique()\n"
   ],
   "metadata": {
    "collapsed": false,
    "ExecuteTime": {
     "end_time": "2023-12-12T18:20:39.147382100Z",
     "start_time": "2023-12-12T18:20:39.117828900Z"
    }
   },
   "id": "8b91fad1c1cb6fc4"
  },
  {
   "cell_type": "code",
   "execution_count": 98,
   "outputs": [
    {
     "data": {
      "text/plain": "    Season        Date    HomeTeam    AwayTeam  FTHG  FTAG FTR HTR  \\\n0  1995-96  02-09-1995   La Coruna    Valencia     3     0   H   H   \n1  1995-96  02-09-1995    Sp Gijon    Albacete     3     0   H   H   \n2  1995-96  03-09-1995  Ath Bilbao   Santander     4     0   H   H   \n3  1995-96  03-09-1995  Ath Madrid    Sociedad     4     1   H   D   \n4  1995-96  03-09-1995       Celta  Compostela     0     1   A   D   \n\n   home_team_points  away_team_points  tie_points  \n0               3.0               0.0         0.0  \n1               3.0               0.0         0.0  \n2               3.0               0.0         0.0  \n3               3.0               0.0         0.0  \n4               0.0               3.0         0.0  ",
      "text/html": "<div>\n<style scoped>\n    .dataframe tbody tr th:only-of-type {\n        vertical-align: middle;\n    }\n\n    .dataframe tbody tr th {\n        vertical-align: top;\n    }\n\n    .dataframe thead th {\n        text-align: right;\n    }\n</style>\n<table border=\"1\" class=\"dataframe\">\n  <thead>\n    <tr style=\"text-align: right;\">\n      <th></th>\n      <th>Season</th>\n      <th>Date</th>\n      <th>HomeTeam</th>\n      <th>AwayTeam</th>\n      <th>FTHG</th>\n      <th>FTAG</th>\n      <th>FTR</th>\n      <th>HTR</th>\n      <th>home_team_points</th>\n      <th>away_team_points</th>\n      <th>tie_points</th>\n    </tr>\n  </thead>\n  <tbody>\n    <tr>\n      <th>0</th>\n      <td>1995-96</td>\n      <td>02-09-1995</td>\n      <td>La Coruna</td>\n      <td>Valencia</td>\n      <td>3</td>\n      <td>0</td>\n      <td>H</td>\n      <td>H</td>\n      <td>3.0</td>\n      <td>0.0</td>\n      <td>0.0</td>\n    </tr>\n    <tr>\n      <th>1</th>\n      <td>1995-96</td>\n      <td>02-09-1995</td>\n      <td>Sp Gijon</td>\n      <td>Albacete</td>\n      <td>3</td>\n      <td>0</td>\n      <td>H</td>\n      <td>H</td>\n      <td>3.0</td>\n      <td>0.0</td>\n      <td>0.0</td>\n    </tr>\n    <tr>\n      <th>2</th>\n      <td>1995-96</td>\n      <td>03-09-1995</td>\n      <td>Ath Bilbao</td>\n      <td>Santander</td>\n      <td>4</td>\n      <td>0</td>\n      <td>H</td>\n      <td>H</td>\n      <td>3.0</td>\n      <td>0.0</td>\n      <td>0.0</td>\n    </tr>\n    <tr>\n      <th>3</th>\n      <td>1995-96</td>\n      <td>03-09-1995</td>\n      <td>Ath Madrid</td>\n      <td>Sociedad</td>\n      <td>4</td>\n      <td>1</td>\n      <td>H</td>\n      <td>D</td>\n      <td>3.0</td>\n      <td>0.0</td>\n      <td>0.0</td>\n    </tr>\n    <tr>\n      <th>4</th>\n      <td>1995-96</td>\n      <td>03-09-1995</td>\n      <td>Celta</td>\n      <td>Compostela</td>\n      <td>0</td>\n      <td>1</td>\n      <td>A</td>\n      <td>D</td>\n      <td>0.0</td>\n      <td>3.0</td>\n      <td>0.0</td>\n    </tr>\n  </tbody>\n</table>\n</div>"
     },
     "execution_count": 98,
     "metadata": {},
     "output_type": "execute_result"
    }
   ],
   "source": [
    "matches.head()"
   ],
   "metadata": {
    "collapsed": false,
    "ExecuteTime": {
     "end_time": "2023-12-12T18:20:39.188956600Z",
     "start_time": "2023-12-12T18:20:39.147382100Z"
    }
   },
   "id": "50d572ef1b7bc6ba"
  },
  {
   "cell_type": "code",
   "execution_count": 99,
   "outputs": [
    {
     "data": {
      "text/plain": "       Season        Date    HomeTeam   AwayTeam  FTHG  FTAG FTR  HTR  \\\n136   1995-96  19-11-1995  Ath Bilbao  La Coruna     1     0   H  NaN   \n1472  1998-99  10-01-1999  Valladolid      Betis     0     3   A  NaN   \n\n      home_team_points  away_team_points  tie_points  \n136                3.0               0.0         0.0  \n1472               0.0               3.0         0.0  ",
      "text/html": "<div>\n<style scoped>\n    .dataframe tbody tr th:only-of-type {\n        vertical-align: middle;\n    }\n\n    .dataframe tbody tr th {\n        vertical-align: top;\n    }\n\n    .dataframe thead th {\n        text-align: right;\n    }\n</style>\n<table border=\"1\" class=\"dataframe\">\n  <thead>\n    <tr style=\"text-align: right;\">\n      <th></th>\n      <th>Season</th>\n      <th>Date</th>\n      <th>HomeTeam</th>\n      <th>AwayTeam</th>\n      <th>FTHG</th>\n      <th>FTAG</th>\n      <th>FTR</th>\n      <th>HTR</th>\n      <th>home_team_points</th>\n      <th>away_team_points</th>\n      <th>tie_points</th>\n    </tr>\n  </thead>\n  <tbody>\n    <tr>\n      <th>136</th>\n      <td>1995-96</td>\n      <td>19-11-1995</td>\n      <td>Ath Bilbao</td>\n      <td>La Coruna</td>\n      <td>1</td>\n      <td>0</td>\n      <td>H</td>\n      <td>NaN</td>\n      <td>3.0</td>\n      <td>0.0</td>\n      <td>0.0</td>\n    </tr>\n    <tr>\n      <th>1472</th>\n      <td>1998-99</td>\n      <td>10-01-1999</td>\n      <td>Valladolid</td>\n      <td>Betis</td>\n      <td>0</td>\n      <td>3</td>\n      <td>A</td>\n      <td>NaN</td>\n      <td>0.0</td>\n      <td>3.0</td>\n      <td>0.0</td>\n    </tr>\n  </tbody>\n</table>\n</div>"
     },
     "execution_count": 99,
     "metadata": {},
     "output_type": "execute_result"
    }
   ],
   "source": [
    "matches[matches.isnull().any(axis=1)]"
   ],
   "metadata": {
    "collapsed": false,
    "ExecuteTime": {
     "end_time": "2023-12-12T18:20:39.229047600Z",
     "start_time": "2023-12-12T18:20:39.176437400Z"
    }
   },
   "id": "3bd66f78088a3a2c"
  },
  {
   "cell_type": "code",
   "execution_count": 100,
   "outputs": [],
   "source": [
    "\n",
    "matches.loc[136, 'HTR'] = 'D'\n",
    "matches.loc[1472, 'HTR'] = 'D'"
   ],
   "metadata": {
    "collapsed": false,
    "ExecuteTime": {
     "end_time": "2023-12-12T18:20:39.247091600Z",
     "start_time": "2023-12-12T18:20:39.203982100Z"
    }
   },
   "id": "85be6cd28a138990"
  },
  {
   "cell_type": "code",
   "execution_count": 101,
   "outputs": [
    {
     "data": {
      "text/plain": "Season              0\nDate                0\nHomeTeam            0\nAwayTeam            0\nFTHG                0\nFTAG                0\nFTR                 0\nHTR                 0\nhome_team_points    0\naway_team_points    0\ntie_points          0\ndtype: int64"
     },
     "execution_count": 101,
     "metadata": {},
     "output_type": "execute_result"
    }
   ],
   "source": [
    "#finding the null values\n",
    "matches.isnull().sum()"
   ],
   "metadata": {
    "collapsed": false,
    "ExecuteTime": {
     "end_time": "2023-12-12T18:20:39.312298100Z",
     "start_time": "2023-12-12T18:20:39.239569800Z"
    }
   },
   "id": "85de33bfd5843994"
  },
  {
   "cell_type": "code",
   "execution_count": 102,
   "outputs": [
    {
     "data": {
      "text/plain": "        Season        Date    HomeTeam    AwayTeam  FTHG  FTAG FTR HTR  \\\n0      1995-96  02-09-1995   La Coruna    Valencia     3     0   H   H   \n1      1995-96  02-09-1995    Sp Gijon    Albacete     3     0   H   H   \n2      1995-96  03-09-1995  Ath Bilbao   Santander     4     0   H   H   \n3      1995-96  03-09-1995  Ath Madrid    Sociedad     4     1   H   D   \n4      1995-96  03-09-1995       Celta  Compostela     0     1   A   D   \n...        ...         ...         ...         ...   ...   ...  ..  ..   \n10878  2023-24  01-10-2023     Almeria     Granada     3     3   D   H   \n10879  2023-24  01-10-2023      Alaves     Osasuna     0     2   A   A   \n10880  2023-24  01-10-2023  Ath Madrid       Cadiz     3     2   H   A   \n10881  2023-24  01-10-2023       Betis    Valencia     3     0   H   H   \n10882  2023-24  02-10-2023  Las Palmas       Celta     2     1   H   D   \n\n       home_team_points  away_team_points  tie_points  resultHome  resultAway  \\\n0                   3.0               0.0         0.0           3           0   \n1                   3.0               0.0         0.0           3           0   \n2                   3.0               0.0         0.0           3           0   \n3                   3.0               0.0         0.0           3           0   \n4                   0.0               3.0         0.0           0           3   \n...                 ...               ...         ...         ...         ...   \n10878               0.0               0.0         1.0           1           1   \n10879               0.0               3.0         0.0           0           3   \n10880               3.0               0.0         0.0           3           0   \n10881               3.0               0.0         0.0           3           0   \n10882               3.0               0.0         0.0           3           0   \n\n       result  \n0           3  \n1           3  \n2           3  \n3           3  \n4           3  \n...       ...  \n10878       2  \n10879       3  \n10880       3  \n10881       3  \n10882       3  \n\n[10883 rows x 14 columns]",
      "text/html": "<div>\n<style scoped>\n    .dataframe tbody tr th:only-of-type {\n        vertical-align: middle;\n    }\n\n    .dataframe tbody tr th {\n        vertical-align: top;\n    }\n\n    .dataframe thead th {\n        text-align: right;\n    }\n</style>\n<table border=\"1\" class=\"dataframe\">\n  <thead>\n    <tr style=\"text-align: right;\">\n      <th></th>\n      <th>Season</th>\n      <th>Date</th>\n      <th>HomeTeam</th>\n      <th>AwayTeam</th>\n      <th>FTHG</th>\n      <th>FTAG</th>\n      <th>FTR</th>\n      <th>HTR</th>\n      <th>home_team_points</th>\n      <th>away_team_points</th>\n      <th>tie_points</th>\n      <th>resultHome</th>\n      <th>resultAway</th>\n      <th>result</th>\n    </tr>\n  </thead>\n  <tbody>\n    <tr>\n      <th>0</th>\n      <td>1995-96</td>\n      <td>02-09-1995</td>\n      <td>La Coruna</td>\n      <td>Valencia</td>\n      <td>3</td>\n      <td>0</td>\n      <td>H</td>\n      <td>H</td>\n      <td>3.0</td>\n      <td>0.0</td>\n      <td>0.0</td>\n      <td>3</td>\n      <td>0</td>\n      <td>3</td>\n    </tr>\n    <tr>\n      <th>1</th>\n      <td>1995-96</td>\n      <td>02-09-1995</td>\n      <td>Sp Gijon</td>\n      <td>Albacete</td>\n      <td>3</td>\n      <td>0</td>\n      <td>H</td>\n      <td>H</td>\n      <td>3.0</td>\n      <td>0.0</td>\n      <td>0.0</td>\n      <td>3</td>\n      <td>0</td>\n      <td>3</td>\n    </tr>\n    <tr>\n      <th>2</th>\n      <td>1995-96</td>\n      <td>03-09-1995</td>\n      <td>Ath Bilbao</td>\n      <td>Santander</td>\n      <td>4</td>\n      <td>0</td>\n      <td>H</td>\n      <td>H</td>\n      <td>3.0</td>\n      <td>0.0</td>\n      <td>0.0</td>\n      <td>3</td>\n      <td>0</td>\n      <td>3</td>\n    </tr>\n    <tr>\n      <th>3</th>\n      <td>1995-96</td>\n      <td>03-09-1995</td>\n      <td>Ath Madrid</td>\n      <td>Sociedad</td>\n      <td>4</td>\n      <td>1</td>\n      <td>H</td>\n      <td>D</td>\n      <td>3.0</td>\n      <td>0.0</td>\n      <td>0.0</td>\n      <td>3</td>\n      <td>0</td>\n      <td>3</td>\n    </tr>\n    <tr>\n      <th>4</th>\n      <td>1995-96</td>\n      <td>03-09-1995</td>\n      <td>Celta</td>\n      <td>Compostela</td>\n      <td>0</td>\n      <td>1</td>\n      <td>A</td>\n      <td>D</td>\n      <td>0.0</td>\n      <td>3.0</td>\n      <td>0.0</td>\n      <td>0</td>\n      <td>3</td>\n      <td>3</td>\n    </tr>\n    <tr>\n      <th>...</th>\n      <td>...</td>\n      <td>...</td>\n      <td>...</td>\n      <td>...</td>\n      <td>...</td>\n      <td>...</td>\n      <td>...</td>\n      <td>...</td>\n      <td>...</td>\n      <td>...</td>\n      <td>...</td>\n      <td>...</td>\n      <td>...</td>\n      <td>...</td>\n    </tr>\n    <tr>\n      <th>10878</th>\n      <td>2023-24</td>\n      <td>01-10-2023</td>\n      <td>Almeria</td>\n      <td>Granada</td>\n      <td>3</td>\n      <td>3</td>\n      <td>D</td>\n      <td>H</td>\n      <td>0.0</td>\n      <td>0.0</td>\n      <td>1.0</td>\n      <td>1</td>\n      <td>1</td>\n      <td>2</td>\n    </tr>\n    <tr>\n      <th>10879</th>\n      <td>2023-24</td>\n      <td>01-10-2023</td>\n      <td>Alaves</td>\n      <td>Osasuna</td>\n      <td>0</td>\n      <td>2</td>\n      <td>A</td>\n      <td>A</td>\n      <td>0.0</td>\n      <td>3.0</td>\n      <td>0.0</td>\n      <td>0</td>\n      <td>3</td>\n      <td>3</td>\n    </tr>\n    <tr>\n      <th>10880</th>\n      <td>2023-24</td>\n      <td>01-10-2023</td>\n      <td>Ath Madrid</td>\n      <td>Cadiz</td>\n      <td>3</td>\n      <td>2</td>\n      <td>H</td>\n      <td>A</td>\n      <td>3.0</td>\n      <td>0.0</td>\n      <td>0.0</td>\n      <td>3</td>\n      <td>0</td>\n      <td>3</td>\n    </tr>\n    <tr>\n      <th>10881</th>\n      <td>2023-24</td>\n      <td>01-10-2023</td>\n      <td>Betis</td>\n      <td>Valencia</td>\n      <td>3</td>\n      <td>0</td>\n      <td>H</td>\n      <td>H</td>\n      <td>3.0</td>\n      <td>0.0</td>\n      <td>0.0</td>\n      <td>3</td>\n      <td>0</td>\n      <td>3</td>\n    </tr>\n    <tr>\n      <th>10882</th>\n      <td>2023-24</td>\n      <td>02-10-2023</td>\n      <td>Las Palmas</td>\n      <td>Celta</td>\n      <td>2</td>\n      <td>1</td>\n      <td>H</td>\n      <td>D</td>\n      <td>3.0</td>\n      <td>0.0</td>\n      <td>0.0</td>\n      <td>3</td>\n      <td>0</td>\n      <td>3</td>\n    </tr>\n  </tbody>\n</table>\n<p>10883 rows × 14 columns</p>\n</div>"
     },
     "execution_count": 102,
     "metadata": {},
     "output_type": "execute_result"
    }
   ],
   "source": [
    "matches['resultHome'] = matches['FTR'].map({'H':3,'A':0,'D':1})\n",
    "matches['resultAway'] = matches['FTR'].map({'H':0,'A':3,'D':1})\n",
    "matches['result'] = matches['resultHome'] + matches['resultAway']\n",
    "matches"
   ],
   "metadata": {
    "collapsed": false,
    "ExecuteTime": {
     "end_time": "2023-12-12T18:20:39.420507300Z",
     "start_time": "2023-12-12T18:20:39.301779800Z"
    }
   },
   "id": "92f2d8e6308a15f5"
  },
  {
   "cell_type": "code",
   "execution_count": 103,
   "outputs": [
    {
     "name": "stdout",
     "output_type": "stream",
     "text": [
      "      FTHG  FTAG\n",
      "1209     2     1\n",
      "2543     0     2\n",
      "581      1     2\n",
      "613      4     2\n",
      "9635     0     1\n",
      "...    ...   ...\n",
      "5403     2     3\n",
      "4038     5     2\n",
      "872      0     2\n",
      "2702     0     1\n",
      "4356     3     0\n",
      "\n",
      "[8706 rows x 2 columns]\n",
      "(8706, 2) (8706,)\n",
      "(2177, 2) (2177,)\n"
     ]
    }
   ],
   "source": [
    "\n",
    "y=matches['result']\n",
    "\n",
    "X_train, X_test, y_train, y_test = train_test_split(matches[['FTHG','FTAG']],matches['result'],\n",
    "                                                              test_size=0.2,\n",
    "                                                              random_state=0,\n",
    "                                                              stratify=y)\n",
    "print(X_train)\n",
    "print(X_train.shape,y_train.shape)\n",
    "print(X_test.shape,y_test.shape)"
   ],
   "metadata": {
    "collapsed": false,
    "ExecuteTime": {
     "end_time": "2023-12-12T18:20:39.436540900Z",
     "start_time": "2023-12-12T18:20:39.405970400Z"
    }
   },
   "id": "1548bfb669b22f6e"
  },
  {
   "cell_type": "code",
   "execution_count": 104,
   "outputs": [
    {
     "data": {
      "text/plain": "(8706, 2)"
     },
     "execution_count": 104,
     "metadata": {},
     "output_type": "execute_result"
    }
   ],
   "source": [
    "X_train.shape"
   ],
   "metadata": {
    "collapsed": false,
    "ExecuteTime": {
     "end_time": "2023-12-12T18:20:39.497775100Z",
     "start_time": "2023-12-12T18:20:39.441542200Z"
    }
   },
   "id": "d8231d6f5e94dda1"
  },
  {
   "cell_type": "code",
   "execution_count": 105,
   "outputs": [
    {
     "data": {
      "text/plain": "      FTHG  FTAG\n1209     2     1\n2543     0     2\n581      1     2\n613      4     2\n9635     0     1\n...    ...   ...\n5403     2     3\n4038     5     2\n872      0     2\n2702     0     1\n4356     3     0\n\n[8706 rows x 2 columns]",
      "text/html": "<div>\n<style scoped>\n    .dataframe tbody tr th:only-of-type {\n        vertical-align: middle;\n    }\n\n    .dataframe tbody tr th {\n        vertical-align: top;\n    }\n\n    .dataframe thead th {\n        text-align: right;\n    }\n</style>\n<table border=\"1\" class=\"dataframe\">\n  <thead>\n    <tr style=\"text-align: right;\">\n      <th></th>\n      <th>FTHG</th>\n      <th>FTAG</th>\n    </tr>\n  </thead>\n  <tbody>\n    <tr>\n      <th>1209</th>\n      <td>2</td>\n      <td>1</td>\n    </tr>\n    <tr>\n      <th>2543</th>\n      <td>0</td>\n      <td>2</td>\n    </tr>\n    <tr>\n      <th>581</th>\n      <td>1</td>\n      <td>2</td>\n    </tr>\n    <tr>\n      <th>613</th>\n      <td>4</td>\n      <td>2</td>\n    </tr>\n    <tr>\n      <th>9635</th>\n      <td>0</td>\n      <td>1</td>\n    </tr>\n    <tr>\n      <th>...</th>\n      <td>...</td>\n      <td>...</td>\n    </tr>\n    <tr>\n      <th>5403</th>\n      <td>2</td>\n      <td>3</td>\n    </tr>\n    <tr>\n      <th>4038</th>\n      <td>5</td>\n      <td>2</td>\n    </tr>\n    <tr>\n      <th>872</th>\n      <td>0</td>\n      <td>2</td>\n    </tr>\n    <tr>\n      <th>2702</th>\n      <td>0</td>\n      <td>1</td>\n    </tr>\n    <tr>\n      <th>4356</th>\n      <td>3</td>\n      <td>0</td>\n    </tr>\n  </tbody>\n</table>\n<p>8706 rows × 2 columns</p>\n</div>"
     },
     "execution_count": 105,
     "metadata": {},
     "output_type": "execute_result"
    }
   ],
   "source": [
    "X_train"
   ],
   "metadata": {
    "collapsed": false,
    "ExecuteTime": {
     "end_time": "2023-12-12T18:20:39.519808700Z",
     "start_time": "2023-12-12T18:20:39.487260200Z"
    }
   },
   "id": "cc7f00a3600d7462"
  },
  {
   "cell_type": "code",
   "execution_count": 106,
   "outputs": [
    {
     "data": {
      "text/plain": "(2177, 2)"
     },
     "execution_count": 106,
     "metadata": {},
     "output_type": "execute_result"
    }
   ],
   "source": [
    "X_test.shape"
   ],
   "metadata": {
    "collapsed": false,
    "ExecuteTime": {
     "end_time": "2023-12-12T18:20:39.616482200Z",
     "start_time": "2023-12-12T18:20:39.522808700Z"
    }
   },
   "id": "6f755ccbd4665862"
  },
  {
   "cell_type": "code",
   "execution_count": 107,
   "outputs": [
    {
     "data": {
      "text/plain": "       FTHG  FTAG\n8245      1     1\n4511      1     3\n10331     0     0\n1194      0     0\n9070      1     1\n...     ...   ...\n5326      1     1\n632       1     1\n1932      1     1\n1867      0     2\n7227      5     0\n\n[2177 rows x 2 columns]",
      "text/html": "<div>\n<style scoped>\n    .dataframe tbody tr th:only-of-type {\n        vertical-align: middle;\n    }\n\n    .dataframe tbody tr th {\n        vertical-align: top;\n    }\n\n    .dataframe thead th {\n        text-align: right;\n    }\n</style>\n<table border=\"1\" class=\"dataframe\">\n  <thead>\n    <tr style=\"text-align: right;\">\n      <th></th>\n      <th>FTHG</th>\n      <th>FTAG</th>\n    </tr>\n  </thead>\n  <tbody>\n    <tr>\n      <th>8245</th>\n      <td>1</td>\n      <td>1</td>\n    </tr>\n    <tr>\n      <th>4511</th>\n      <td>1</td>\n      <td>3</td>\n    </tr>\n    <tr>\n      <th>10331</th>\n      <td>0</td>\n      <td>0</td>\n    </tr>\n    <tr>\n      <th>1194</th>\n      <td>0</td>\n      <td>0</td>\n    </tr>\n    <tr>\n      <th>9070</th>\n      <td>1</td>\n      <td>1</td>\n    </tr>\n    <tr>\n      <th>...</th>\n      <td>...</td>\n      <td>...</td>\n    </tr>\n    <tr>\n      <th>5326</th>\n      <td>1</td>\n      <td>1</td>\n    </tr>\n    <tr>\n      <th>632</th>\n      <td>1</td>\n      <td>1</td>\n    </tr>\n    <tr>\n      <th>1932</th>\n      <td>1</td>\n      <td>1</td>\n    </tr>\n    <tr>\n      <th>1867</th>\n      <td>0</td>\n      <td>2</td>\n    </tr>\n    <tr>\n      <th>7227</th>\n      <td>5</td>\n      <td>0</td>\n    </tr>\n  </tbody>\n</table>\n<p>2177 rows × 2 columns</p>\n</div>"
     },
     "execution_count": 107,
     "metadata": {},
     "output_type": "execute_result"
    }
   ],
   "source": [
    "X_test"
   ],
   "metadata": {
    "collapsed": false,
    "ExecuteTime": {
     "end_time": "2023-12-12T18:20:39.659554300Z",
     "start_time": "2023-12-12T18:20:39.611964400Z"
    }
   },
   "id": "6ea9722720ee5c78"
  },
  {
   "cell_type": "code",
   "execution_count": 108,
   "outputs": [
    {
     "data": {
      "text/plain": "(8706,)"
     },
     "execution_count": 108,
     "metadata": {},
     "output_type": "execute_result"
    }
   ],
   "source": [
    "y_train.shape"
   ],
   "metadata": {
    "collapsed": false,
    "ExecuteTime": {
     "end_time": "2023-12-12T18:20:39.736261900Z",
     "start_time": "2023-12-12T18:20:39.647034800Z"
    }
   },
   "id": "2fc815e93dda47f5"
  },
  {
   "cell_type": "code",
   "execution_count": 109,
   "outputs": [
    {
     "data": {
      "text/plain": "(2177,)"
     },
     "execution_count": 109,
     "metadata": {},
     "output_type": "execute_result"
    }
   ],
   "source": [
    "y_test.shape"
   ],
   "metadata": {
    "collapsed": false,
    "ExecuteTime": {
     "end_time": "2023-12-12T18:20:39.804398300Z",
     "start_time": "2023-12-12T18:20:39.740260400Z"
    }
   },
   "id": "96ee0be4a15ef99e"
  },
  {
   "cell_type": "code",
   "execution_count": 110,
   "outputs": [
    {
     "data": {
      "text/plain": "2721"
     },
     "execution_count": 110,
     "metadata": {},
     "output_type": "execute_result"
    }
   ],
   "source": [
    "total_data_count=matches.shape[0]\n",
    "round(total_data_count*0.25)"
   ],
   "metadata": {
    "collapsed": false,
    "ExecuteTime": {
     "end_time": "2023-12-12T18:20:39.887110600Z",
     "start_time": "2023-12-12T18:20:39.787375400Z"
    }
   },
   "id": "c3e90a753af509e0"
  },
  {
   "cell_type": "code",
   "execution_count": 111,
   "outputs": [
    {
     "data": {
      "text/plain": "Season               object\nDate                 object\nHomeTeam             object\nAwayTeam             object\nFTHG                  int64\nFTAG                  int64\nFTR                  object\nHTR                  object\nhome_team_points    float64\naway_team_points    float64\ntie_points          float64\nresultHome            int64\nresultAway            int64\nresult                int64\ndtype: object"
     },
     "execution_count": 111,
     "metadata": {},
     "output_type": "execute_result"
    }
   ],
   "source": [
    "matches.dtypes"
   ],
   "metadata": {
    "collapsed": false,
    "ExecuteTime": {
     "end_time": "2023-12-12T18:20:39.930221100Z",
     "start_time": "2023-12-12T18:20:39.895628700Z"
    }
   },
   "id": "304ad886f8f90ff8"
  },
  {
   "cell_type": "code",
   "execution_count": 112,
   "outputs": [
    {
     "name": "stdout",
     "output_type": "stream",
     "text": [
      "Class - 0 : 0\n",
      "Class - 1 : 0\n",
      "Class - 2 : 2225\n"
     ]
    }
   ],
   "source": [
    "for i in range(3):\n",
    "    print(\"Class -\",i,\":\",list(y_train).count(i))"
   ],
   "metadata": {
    "collapsed": false,
    "ExecuteTime": {
     "end_time": "2023-12-12T18:20:39.975808900Z",
     "start_time": "2023-12-12T18:20:39.917708Z"
    }
   },
   "id": "4adb2af7efd8d876"
  },
  {
   "cell_type": "code",
   "execution_count": 113,
   "outputs": [
    {
     "name": "stdout",
     "output_type": "stream",
     "text": [
      "Class - 0 : 0\n",
      "Class - 1 : 0\n",
      "Class - 2 : 556\n"
     ]
    }
   ],
   "source": [
    "for i in range(3):\n",
    "    print(\"Class -\",i,\":\",list(y_test).count(i))"
   ],
   "metadata": {
    "collapsed": false,
    "ExecuteTime": {
     "end_time": "2023-12-12T18:20:39.995843900Z",
     "start_time": "2023-12-12T18:20:39.967298300Z"
    }
   },
   "id": "2b0789d87fab9f46"
  },
  {
   "cell_type": "code",
   "execution_count": 114,
   "outputs": [
    {
     "name": "stdout",
     "output_type": "stream",
     "text": [
      "Class - 0 : 0\n",
      "Class - 1 : 0\n"
     ]
    }
   ],
   "source": [
    "uni=len(matches['result'].unique())\n",
    "for i in range(uni):\n",
    "    print(\"Class -\",i,\":\",list(matches['result']).count(i))"
   ],
   "metadata": {
    "collapsed": false,
    "ExecuteTime": {
     "end_time": "2023-12-12T18:20:40.061966500Z",
     "start_time": "2023-12-12T18:20:39.999850800Z"
    }
   },
   "id": "dd0b6d5d1b64599"
  },
  {
   "cell_type": "code",
   "execution_count": 115,
   "outputs": [
    {
     "name": "stdout",
     "output_type": "stream",
     "text": [
      "per-feature minimum before scaling:\n",
      " FTHG    0\n",
      "FTAG    0\n",
      "dtype: int64\n",
      "per-feature maximum before scaling:\n",
      " FTHG    8\n",
      "FTAG    8\n",
      "dtype: int64\n"
     ]
    }
   ],
   "source": [
    "print(\"per-feature minimum before scaling:\\n {}\".format(X_train.min(axis=0)))\n",
    "print(\"per-feature maximum before scaling:\\n {}\".format(X_train.max(axis=0)))"
   ],
   "metadata": {
    "collapsed": false,
    "ExecuteTime": {
     "end_time": "2023-12-12T18:20:40.078004600Z",
     "start_time": "2023-12-12T18:20:40.050445500Z"
    }
   },
   "id": "c9f17511c70b77a9"
  },
  {
   "cell_type": "code",
   "execution_count": 116,
   "outputs": [
    {
     "name": "stdout",
     "output_type": "stream",
     "text": [
      "Test set accuracy: 1.00\n"
     ]
    }
   ],
   "source": [
    "knn=KNeighborsClassifier()\n",
    "\n",
    "knn.fit(X_train, y_train)\n",
    "\n",
    "print(\"Test set accuracy: {:.2f}\".format(knn.score(X_test, y_test)))"
   ],
   "metadata": {
    "collapsed": false,
    "ExecuteTime": {
     "end_time": "2023-12-12T18:20:40.245834100Z",
     "start_time": "2023-12-12T18:20:40.084509100Z"
    }
   },
   "id": "dd27185f8d17d569"
  },
  {
   "cell_type": "code",
   "execution_count": 117,
   "outputs": [],
   "source": [
    "preds=knn.predict(X_test)\n",
    "# acc=accuracy_score(y_test,preds)\n",
    "combined=pd.DataFrame(dict(actual=y_test,predictions=preds),index=X_test.index)\n",
    "# pd.crosstab(index=combined[\"actual\"],columns=combined[\"predictions\"])"
   ],
   "metadata": {
    "collapsed": false,
    "ExecuteTime": {
     "end_time": "2023-12-12T18:20:40.361521200Z",
     "start_time": "2023-12-12T18:20:40.225798700Z"
    }
   },
   "id": "9a1e213174e492ae"
  },
  {
   "cell_type": "code",
   "execution_count": 118,
   "outputs": [
    {
     "data": {
      "text/plain": "       actual  predictions\n8245        2            2\n4511        3            3\n10331       2            2\n1194        2            2\n9070        2            2\n...       ...          ...\n5326        2            2\n632         2            2\n1932        2            2\n1867        3            3\n7227        3            3\n\n[2177 rows x 2 columns]",
      "text/html": "<div>\n<style scoped>\n    .dataframe tbody tr th:only-of-type {\n        vertical-align: middle;\n    }\n\n    .dataframe tbody tr th {\n        vertical-align: top;\n    }\n\n    .dataframe thead th {\n        text-align: right;\n    }\n</style>\n<table border=\"1\" class=\"dataframe\">\n  <thead>\n    <tr style=\"text-align: right;\">\n      <th></th>\n      <th>actual</th>\n      <th>predictions</th>\n    </tr>\n  </thead>\n  <tbody>\n    <tr>\n      <th>8245</th>\n      <td>2</td>\n      <td>2</td>\n    </tr>\n    <tr>\n      <th>4511</th>\n      <td>3</td>\n      <td>3</td>\n    </tr>\n    <tr>\n      <th>10331</th>\n      <td>2</td>\n      <td>2</td>\n    </tr>\n    <tr>\n      <th>1194</th>\n      <td>2</td>\n      <td>2</td>\n    </tr>\n    <tr>\n      <th>9070</th>\n      <td>2</td>\n      <td>2</td>\n    </tr>\n    <tr>\n      <th>...</th>\n      <td>...</td>\n      <td>...</td>\n    </tr>\n    <tr>\n      <th>5326</th>\n      <td>2</td>\n      <td>2</td>\n    </tr>\n    <tr>\n      <th>632</th>\n      <td>2</td>\n      <td>2</td>\n    </tr>\n    <tr>\n      <th>1932</th>\n      <td>2</td>\n      <td>2</td>\n    </tr>\n    <tr>\n      <th>1867</th>\n      <td>3</td>\n      <td>3</td>\n    </tr>\n    <tr>\n      <th>7227</th>\n      <td>3</td>\n      <td>3</td>\n    </tr>\n  </tbody>\n</table>\n<p>2177 rows × 2 columns</p>\n</div>"
     },
     "execution_count": 118,
     "metadata": {},
     "output_type": "execute_result"
    }
   ],
   "source": [
    "combined\n"
   ],
   "metadata": {
    "collapsed": false,
    "ExecuteTime": {
     "end_time": "2023-12-12T18:20:40.364564400Z",
     "start_time": "2023-12-12T18:20:40.354508300Z"
    }
   },
   "id": "162b9d9c3b566687"
  },
  {
   "cell_type": "code",
   "execution_count": 119,
   "outputs": [
    {
     "data": {
      "text/plain": "0.9995414769555061"
     },
     "execution_count": 119,
     "metadata": {},
     "output_type": "execute_result"
    }
   ],
   "source": [
    "from sklearn.metrics import precision_score\n",
    "precision_score(y_test,preds,average='weighted')\n"
   ],
   "metadata": {
    "collapsed": false,
    "ExecuteTime": {
     "end_time": "2023-12-12T18:20:40.408695600Z",
     "start_time": "2023-12-12T18:20:40.360521900Z"
    }
   },
   "id": "c7340b031ff5f38c"
  },
  {
   "cell_type": "code",
   "execution_count": 120,
   "outputs": [],
   "source": [
    "def rolling_averages(group,cols,new_cols):\n",
    "  group=group.sort_values(\"date\")\n",
    "  rolling_stat=group[cols].rolling(3, closed='left').mean()\n",
    "  group[new_cols]=rolling_stat\n",
    "  group=group.dropna(subset=new_cols)\n",
    "  return group"
   ],
   "metadata": {
    "collapsed": false,
    "ExecuteTime": {
     "end_time": "2023-12-12T18:20:40.435244300Z",
     "start_time": "2023-12-12T18:20:40.379089700Z"
    }
   },
   "id": "475356d3ca1e6eaa"
  },
  {
   "cell_type": "code",
   "execution_count": 121,
   "outputs": [],
   "source": [
    "\n",
    "scaler1 = MinMaxScaler()\n",
    "\n",
    "scaler1.fit(X_train,X_test)\n",
    "# transform data\n",
    "X_train_scaled = scaler1.transform(X_train)\n",
    "# transform test data\n",
    "X_test_scaled = scaler1.transform(X_test)\n"
   ],
   "metadata": {
    "collapsed": false,
    "ExecuteTime": {
     "end_time": "2023-12-12T18:20:40.467802400Z",
     "start_time": "2023-12-12T18:20:40.389611400Z"
    }
   },
   "id": "7fd148f8c5fe7e4c"
  },
  {
   "cell_type": "code",
   "execution_count": 122,
   "outputs": [
    {
     "name": "stdout",
     "output_type": "stream",
     "text": [
      "per-feature minimum after scaling:\n",
      " [0. 0.]\n",
      "per-feature maximum after scaling:\n",
      " [1. 1.]\n"
     ]
    }
   ],
   "source": [
    "print(\"per-feature minimum after scaling:\\n {}\".format(\n",
    "    X_train_scaled.min(axis=0)))\n",
    "print(\"per-feature maximum after scaling:\\n {}\".format(\n",
    "    X_train_scaled.max(axis=0)))"
   ],
   "metadata": {
    "collapsed": false,
    "ExecuteTime": {
     "end_time": "2023-12-12T18:20:40.494432Z",
     "start_time": "2023-12-12T18:20:40.405687800Z"
    }
   },
   "id": "24934ecfef1fb4c"
  },
  {
   "cell_type": "code",
   "execution_count": 123,
   "outputs": [
    {
     "name": "stdout",
     "output_type": "stream",
     "text": [
      "Scaled test set accuracy: 1.00\n"
     ]
    }
   ],
   "source": [
    "#train\n",
    "knn.fit(X_train_scaled, y_train)\n",
    "\n",
    "# scoring on the scaled test set\n",
    "print(\"Scaled test set accuracy: {:.2f}\".format(\n",
    "    knn.score(X_test_scaled, y_test)))\n",
    "\n",
    "#another approach\n",
    "preds2=knn.predict(X_test_scaled)\n",
    "acc2=accuracy_score(y_test,preds2)\n",
    "# combined=pd.DataFrame(dict(actual=y_test,predictions=preds2))\n",
    "# pd.crosstab(index=combined[\"actual\"],columns=combined[\"predictions\"])\n"
   ],
   "metadata": {
    "collapsed": false,
    "ExecuteTime": {
     "end_time": "2023-12-12T18:20:40.704283700Z",
     "start_time": "2023-12-12T18:20:40.417217400Z"
    }
   },
   "id": "f56aacded69397d8"
  },
  {
   "cell_type": "code",
   "execution_count": 124,
   "outputs": [
    {
     "data": {
      "text/plain": "0.9995406522737712"
     },
     "execution_count": 124,
     "metadata": {},
     "output_type": "execute_result"
    }
   ],
   "source": [
    "acc2"
   ],
   "metadata": {
    "collapsed": false,
    "ExecuteTime": {
     "end_time": "2023-12-12T18:20:40.706295800Z",
     "start_time": "2023-12-12T18:20:40.694260400Z"
    }
   },
   "id": "3251e65ca5a19427"
  },
  {
   "cell_type": "code",
   "execution_count": 125,
   "outputs": [
    {
     "data": {
      "text/plain": "array([2, 3, 2, ..., 2, 3, 3], dtype=int64)"
     },
     "execution_count": 125,
     "metadata": {},
     "output_type": "execute_result"
    }
   ],
   "source": [
    "preds2"
   ],
   "metadata": {
    "collapsed": false,
    "ExecuteTime": {
     "end_time": "2023-12-12T18:20:40.718812200Z",
     "start_time": "2023-12-12T18:20:40.701781800Z"
    }
   },
   "id": "46a845150bd41398"
  },
  {
   "cell_type": "markdown",
   "source": [
    "Visualizing the KNN"
   ],
   "metadata": {
    "collapsed": false
   },
   "id": "f08c19147b5e47ba"
  },
  {
   "cell_type": "code",
   "execution_count": 126,
   "outputs": [
    {
     "name": "stdout",
     "output_type": "stream",
     "text": [
      "[[ 556    0]\n",
      " [   1 1620]]\n"
     ]
    }
   ],
   "source": [
    "from sklearn.metrics import confusion_matrix\n",
    "pred = knn.predict(X_test_scaled)\n",
    "print(confusion_matrix(y_test, pred))\n"
   ],
   "metadata": {
    "collapsed": false,
    "ExecuteTime": {
     "end_time": "2023-12-12T18:20:40.850041500Z",
     "start_time": "2023-12-12T18:20:40.713297700Z"
    }
   },
   "id": "e69f7a11fa63642c"
  },
  {
   "cell_type": "code",
   "execution_count": 126,
   "outputs": [],
   "source": [],
   "metadata": {
    "collapsed": false,
    "ExecuteTime": {
     "end_time": "2023-12-12T18:20:40.860685700Z",
     "start_time": "2023-12-12T18:20:40.852042800Z"
    }
   },
   "id": "248ae3ea150a9dec"
  },
  {
   "cell_type": "markdown",
   "source": [
    "Support Vector Machine (SVM)"
   ],
   "metadata": {
    "collapsed": false
   },
   "id": "b15459cac8c62200"
  },
  {
   "cell_type": "markdown",
   "source": [],
   "metadata": {
    "collapsed": false
   },
   "id": "33b2e382a96c9d88"
  },
  {
   "cell_type": "code",
   "execution_count": 126,
   "outputs": [],
   "source": [],
   "metadata": {
    "collapsed": false,
    "ExecuteTime": {
     "end_time": "2023-12-12T18:20:40.862687400Z",
     "start_time": "2023-12-12T18:20:40.856687900Z"
    }
   },
   "id": "7a046988103ae871"
  },
  {
   "cell_type": "code",
   "execution_count": 127,
   "outputs": [
    {
     "name": "stdout",
     "output_type": "stream",
     "text": [
      "Accuracy of SVM classifier on training set: 0.74\n",
      "Accuracy of SVM classifier on test set: 0.74\n",
      "Accuracy of SVM classifier on training set: 1.00\n",
      "Accuracy of SVM classifier on test set: 1.00\n",
      "Accuracy of SVM classifier on training set: 1.00\n",
      "Accuracy of SVM classifier on test set: 1.00\n"
     ]
    }
   ],
   "source": [
    "\n",
    "svm = SVC(kernel='linear', C=1, random_state=0)\n",
    "svm.fit(X_train_scaled, y_train)\n",
    "print('Accuracy of SVM classifier on training set: {:.2f}'\n",
    "     .format(svm.score(X_train_scaled, y_train)))\n",
    "\n",
    "print('Accuracy of SVM classifier on test set: {:.2f}'\n",
    "        .format(svm.score(X_test_scaled, y_test)))\n",
    "\n",
    "svm2 = SVC(kernel='rbf', C=1, random_state=0)\n",
    "svm2.fit(X_train_scaled, y_train)\n",
    "print('Accuracy of SVM classifier on training set: {:.2f}'\n",
    "     .format(svm2.score(X_train_scaled, y_train)))\n",
    "\n",
    "print('Accuracy of SVM classifier on test set: {:.2f}'\n",
    "        .format(svm2.score(X_test_scaled, y_test)))\n",
    "\n",
    "svm3 = SVC(kernel='poly', C=1, random_state=0)\n",
    "svm3.fit(X_train_scaled, y_train)\n",
    "print('Accuracy of SVM classifier on training set: {:.2f}'\n",
    "     .format(svm3.score(X_train_scaled, y_train)))\n",
    "\n",
    "print('Accuracy of SVM classifier on test set: {:.2f}'\n",
    "        .format(svm3.score(X_test_scaled, y_test)))\n"
   ],
   "metadata": {
    "collapsed": false,
    "ExecuteTime": {
     "end_time": "2023-12-12T18:20:42.472973500Z",
     "start_time": "2023-12-12T18:20:40.865303800Z"
    }
   },
   "id": "ee5b4a07f999dbfb"
  },
  {
   "cell_type": "markdown",
   "source": [
    "Visualizing the SVM"
   ],
   "metadata": {
    "collapsed": false
   },
   "id": "858bc38652f9cb23"
  },
  {
   "cell_type": "code",
   "execution_count": 128,
   "outputs": [
    {
     "name": "stdout",
     "output_type": "stream",
     "text": [
      "[[   0  556]\n",
      " [   0 1621]]\n"
     ]
    }
   ],
   "source": [
    "from sklearn.metrics import confusion_matrix\n",
    "pred = svm.predict(X_test_scaled)\n",
    "print(confusion_matrix(y_test, pred))\n"
   ],
   "metadata": {
    "collapsed": false,
    "ExecuteTime": {
     "end_time": "2023-12-12T18:20:42.585671600Z",
     "start_time": "2023-12-12T18:20:42.472973500Z"
    }
   },
   "id": "5825ad820f0ac9dd"
  },
  {
   "cell_type": "code",
   "execution_count": 128,
   "outputs": [],
   "source": [],
   "metadata": {
    "collapsed": false,
    "ExecuteTime": {
     "end_time": "2023-12-12T18:20:42.592677300Z",
     "start_time": "2023-12-12T18:20:42.585671600Z"
    }
   },
   "id": "e61edff0fc5b01cb"
  },
  {
   "cell_type": "markdown",
   "source": [
    "\n",
    "Naive Bayes"
   ],
   "metadata": {
    "collapsed": false
   },
   "id": "2585cc4262af8e5e"
  },
  {
   "cell_type": "code",
   "execution_count": 129,
   "outputs": [
    {
     "name": "stdout",
     "output_type": "stream",
     "text": [
      "Accuracy of Naive Bayes classifier on training set: 0.74\n",
      "Accuracy of Naive Bayes classifier on test set: 0.74\n"
     ]
    }
   ],
   "source": [
    "nb = GaussianNB()\n",
    "nb.fit(X_train_scaled, y_train)\n",
    "print('Accuracy of Naive Bayes classifier on training set: {:.2f}'\n",
    "     .format(nb.score(X_train_scaled, y_train)))\n",
    "print('Accuracy of Naive Bayes classifier on test set: {:.2f}'\n",
    "        .format(nb.score(X_test_scaled, y_test)))\n"
   ],
   "metadata": {
    "collapsed": false,
    "ExecuteTime": {
     "end_time": "2023-12-12T18:20:42.643271500Z",
     "start_time": "2023-12-12T18:20:42.592677300Z"
    }
   },
   "id": "a49b55d6c019b9e7"
  },
  {
   "cell_type": "markdown",
   "source": [
    "Visualizing the Naive Bayes"
   ],
   "metadata": {
    "collapsed": false
   },
   "id": "6e8d6f148c9471ac"
  },
  {
   "cell_type": "code",
   "execution_count": 130,
   "outputs": [
    {
     "name": "stdout",
     "output_type": "stream",
     "text": [
      "[[   0  556]\n",
      " [   0 1621]]\n"
     ]
    }
   ],
   "source": [
    "from sklearn.metrics import confusion_matrix\n",
    "pred = nb.predict(X_test_scaled)\n",
    "print(confusion_matrix(y_test, pred))"
   ],
   "metadata": {
    "collapsed": false,
    "ExecuteTime": {
     "end_time": "2023-12-12T18:20:42.644777700Z",
     "start_time": "2023-12-12T18:20:42.604701800Z"
    }
   },
   "id": "66e66db9e9c7efa2"
  },
  {
   "cell_type": "code",
   "execution_count": 130,
   "outputs": [],
   "source": [],
   "metadata": {
    "collapsed": false,
    "ExecuteTime": {
     "end_time": "2023-12-12T18:20:42.646793200Z",
     "start_time": "2023-12-12T18:20:42.614219800Z"
    }
   },
   "id": "a553090d25a43526"
  },
  {
   "cell_type": "markdown",
   "source": [
    "Decision Tree"
   ],
   "metadata": {
    "collapsed": false
   },
   "id": "f67ad8b3ea040470"
  },
  {
   "cell_type": "code",
   "execution_count": 131,
   "outputs": [
    {
     "name": "stdout",
     "output_type": "stream",
     "text": [
      "Accuracy of Decision Tree classifier on training set: 1.00\n",
      "Accuracy of Decision Tree classifier on test set: 1.00\n"
     ]
    }
   ],
   "source": [
    "tree = DecisionTreeClassifier(random_state=0)\n",
    "tree.fit(X_train_scaled, y_train)\n",
    "print('Accuracy of Decision Tree classifier on training set: {:.2f}'\n",
    "     .format(tree.score(X_train_scaled, y_train)))\n",
    "print('Accuracy of Decision Tree classifier on test set: {:.2f}'\n",
    "        .format(tree.score(X_test_scaled, y_test)))"
   ],
   "metadata": {
    "collapsed": false,
    "ExecuteTime": {
     "end_time": "2023-12-12T18:20:42.691361800Z",
     "start_time": "2023-12-12T18:20:42.620237200Z"
    }
   },
   "id": "fd801fd7734c546b"
  },
  {
   "cell_type": "markdown",
   "source": [],
   "metadata": {
    "collapsed": false
   },
   "id": "79857d628714d7c8"
  }
 ],
 "metadata": {
  "kernelspec": {
   "display_name": "Python 3",
   "language": "python",
   "name": "python3"
  },
  "language_info": {
   "codemirror_mode": {
    "name": "ipython",
    "version": 2
   },
   "file_extension": ".py",
   "mimetype": "text/x-python",
   "name": "python",
   "nbconvert_exporter": "python",
   "pygments_lexer": "ipython2",
   "version": "2.7.6"
  }
 },
 "nbformat": 4,
 "nbformat_minor": 5
}
